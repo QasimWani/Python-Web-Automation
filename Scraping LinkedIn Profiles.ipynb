{
 "cells": [
  {
   "cell_type": "markdown",
   "metadata": {},
   "source": [
    "# Scraping Data from LinkedIn\n",
    "   ### Things to scrape:\n",
    "1. Major/title\n",
    "2. Bio/description\n",
    "3. Experience\n",
    "4. Skills\n",
    "5. Education\n"
   ]
  },
  {
   "cell_type": "code",
   "execution_count": 1,
   "metadata": {},
   "outputs": [],
   "source": [
    "#User Name\n",
    "allLinks = []\n",
    "userName = []\n",
    "imageLinks = []\n",
    "biographyUser = []\n",
    "# Recent Education Lists\n",
    "schooling, degree_name, field_of_study, period_attended, gpa, activities = [],[],[],[],[],[]\n",
    "#to be removed internally (DON'T REMOVE IT THO!!!)\n",
    "education = []\n",
    "#Skills of a User\n",
    "skills = []\n",
    "#Interests of a User\n",
    "user_interests = []"
   ]
  },
  {
   "cell_type": "code",
   "execution_count": 2,
   "metadata": {},
   "outputs": [],
   "source": [
    "from selenium import webdriver\n",
    "import pandas as pd\n",
    "import os\n",
    "import re\n",
    "from selenium.webdriver import ActionChains\n",
    "from selenium.common.exceptions import NoSuchElementException  \n",
    "from selenium.webdriver.common.keys import Keys\n",
    "import time"
   ]
  },
  {
   "cell_type": "code",
   "execution_count": null,
   "metadata": {},
   "outputs": [],
   "source": [
    "br = webdriver.Chrome(executable_path=r\"C:/Users/qasim/Downloads/chromedriver_win32 Official/chromedriver.exe\")\n",
    "br.get(\"https://www.linkedin.com/uas/login?trk=guest_homepage-basic_nav-header-signin\")\n",
    "time.sleep(2)\n",
    "login_email = br.find_element_by_id(\"username\")\n",
    "login_email.send_keys(\"qasim31wani@gmail.com\")\n",
    "login_password = br.find_element_by_id(\"password\")\n",
    "login_password.send_keys(\"quinnwani\")\n",
    "login_password.submit()\n",
    "time.sleep(0.32)\n",
    "br.get(\"https://www.linkedin.com/search/results/people/?origin=DISCOVER_FROM_SEARCH_HOME\")\n",
    "time.sleep(0.49)\n",
    "allFilters = \".search-filters-bar__all-filters.flex-shrink-zero.mr3.artdeco-button.artdeco-button--muted.artdeco-button--2.artdeco-button--tertiary.ember-view\"\n",
    "br.find_element_by_css_selector(allFilters).click()\n",
    "time.sleep(0.2)\n",
    "br.find_element_by_css_selector(\"#search-advanced-school\").send_keys(\"Virginia Tech\")\n",
    "br.find_element_by_css_selector(\".search-advanced-facets__button--apply.ml4.mr2.artdeco-button.artdeco-button--3.artdeco-button--primary.ember-view\").click()"
   ]
  },
  {
   "cell_type": "code",
   "execution_count": null,
   "metadata": {},
   "outputs": [],
   "source": [
    "def start():\n",
    "    for slow in range(30):\n",
    "        time.sleep(0.2)\n",
    "        br.execute_script(\"window.scrollTo(0,\"+ str(slow*100) +\");\")\n",
    "start()"
   ]
  },
  {
   "cell_type": "code",
   "execution_count": null,
   "metadata": {},
   "outputs": [],
   "source": [
    "def isElement(x):\n",
    "    try:\n",
    "        br.find_element_by_css_selector(x)\n",
    "    except NoSuchElementException:\n",
    "        return False\n",
    "    return True"
   ]
  },
  {
   "cell_type": "code",
   "execution_count": null,
   "metadata": {},
   "outputs": [],
   "source": [
    "def findDetailedInformation():\n",
    "#   Image Link URL Storage\n",
    "    time.sleep(3)\n",
    "    if(isElement(\".profile-photo-edit__preview\") == True):\n",
    "        imageLength = br.find_element_by_css_selector(\".profile-photo-edit__preview\").get_attribute('style').split(\"(\\\"\")\n",
    "    else:\n",
    "        im = br.find_element_by_css_selector(\".pv-top-card-section__photo.presence-entity__image.EntityPhoto-circle-9.ember-view\")\n",
    "        imageLength = im.get_attribute('style').split(\"(\\\"\")\n",
    "    if(len(imageLength)>1):\n",
    "        newIm = im.get_attribute('style').split(\"(\\\"\")[1]\n",
    "        imageLinks.append(newIm[:-3])\n",
    "    else:\n",
    "        imageLinks.append(\"http://ichef.bbci.co.uk/news/999/mcs/media/images/80888000/jpg/_80888657_anon.jpg\")\n",
    "    \n",
    "#  Biography:\n",
    "    biography()\n",
    "\n",
    "# Users' educational Details :\n",
    "    individual_user_education()\n",
    "    \n",
    "# Users' Skills :\n",
    "    userSkills()\n",
    "    \n",
    "# User Interests:\n",
    "    br.execute_script(\"window.scrollTo(0, document.body.scrollHeight);\")\n",
    "    user_has_interests()"
   ]
  },
  {
   "cell_type": "code",
   "execution_count": null,
   "metadata": {},
   "outputs": [],
   "source": [
    "def biography():\n",
    "    isMoreContent = \".pv-top-card-section__summary-toggle-button.pv-profile-section__card-action-bar.artdeco-container-card-action-bar.mt4\"\n",
    "    loadBio = \".pv-top-card-section__summary-text.mt4.ember-view\"\n",
    "    bxb = \"No Biography\"\n",
    "    moreContentExists = isElement(isMoreContent)\n",
    "    if(moreContentExists == True):\n",
    "         br.find_element_by_css_selector(isMoreContent).click()\n",
    "    if(isElement(loadBio) == True):\n",
    "        bxb = br.find_element_by_css_selector(loadBio).text\n",
    "    biographyUser.append(bxb)"
   ]
  },
  {
   "cell_type": "code",
   "execution_count": null,
   "metadata": {},
   "outputs": [],
   "source": [
    "def individualProfiles():\n",
    "    pN = \".search-result__result-link.ember-view\"\n",
    "    start()\n",
    "    br.execute_script(\"window.scrollTo(0, document.body.scrollHeight);\")\n",
    "    time.sleep(0.4)\n",
    "    profileNames = br.find_elements_by_css_selector(pN)\n",
    "    time.sleep(0.49)\n",
    "    br.execute_script(\"window.scrollTo(document.body.scrollHeight,0);\")\n",
    "    even_flag = 0\n",
    "    initial_len = len(allLinks)\n",
    "    for x in profileNames:\n",
    "        if(even_flag % 2 != 0):\n",
    "            if(x.text.split(\"\\n\")[0] != \"LinkedIn Member\"):\n",
    "                allLinks.append(x.get_attribute('href'))\n",
    "                userName.append(x.text.split(\"\\n\")[0])\n",
    "        even_flag += 1\n",
    "    for x in range(initial_len,len(allLinks)):\n",
    "        br.switch_to.window(br.window_handles[-1])\n",
    "        br.get(allLinks[x])\n",
    "        findDetailedInformation()\n",
    "    br.switch_to.window(br.window_handles[0])"
   ]
  },
  {
   "cell_type": "code",
   "execution_count": null,
   "metadata": {},
   "outputs": [],
   "source": [
    "def educationDetails(listName, x, startIndex):\n",
    "    if(isListElementExist(listName, x, startIndex) == True):\n",
    "        return listName.index(x, startIndex)\n",
    "    return -9\n",
    "\n",
    "def isListElementExist(listName, x, startIndex = 0):\n",
    "    try:\n",
    "        listName.index(x, startIndex)\n",
    "    except ValueError:\n",
    "        return False\n",
    "    return True\n"
   ]
  },
  {
   "cell_type": "code",
   "execution_count": null,
   "metadata": {},
   "outputs": [],
   "source": [
    "def individual_user_education():\n",
    "    for x in range(40):\n",
    "        br.execute_script(\"window.scrollTo(0,\"+ str(x*100) +\");\")\n",
    "        time.sleep(0.1)\n",
    "    br.execute_script(\"window.scrollTo(\"+str(4000)+\", document.body.scrollHeight);\")\n",
    "    time.sleep(0.2)\n",
    "    i = br.find_element_by_id(\"education-section\")\n",
    "    education = i.text.split(\"\\n\")\n",
    "    schooling.append(education[1])\n",
    "    try:  \n",
    "        dn = educationDetails(education,\"Degree Name\", 0)\n",
    "        if(dn == -9):\n",
    "            degree_name.append(\"NO DEGREE LISTED\")\n",
    "        else:\n",
    "            degree_name.append(education[dn + 1])\n",
    "    except TypeError:  \n",
    "            print (\"Type error raised in individual_user_education()\" )\n",
    "\n",
    "    fos = educationDetails(education, \"Field Of Study\", 0)\n",
    "    if(fos == -9):\n",
    "        field_of_study.append(\"NO FIELD OF STUDY LISTED\")\n",
    "    else:\n",
    "        field_of_study.append(education[fos + 1])\n",
    "\n",
    "    per_st_edu = educationDetails(education,\"Dates attended or expected graduation\", 0)\n",
    "    if(per_st_edu == -9):\n",
    "        period_attended.append(\"NO TIMELINE FOUND\")\n",
    "    else:\n",
    "        period_attended.append(education[per_st_edu + 1])\n",
    "    \n",
    "#     proof_1 = br.find_element_by_id(\"education-section\")\n",
    "#     uno_proof = proof_1.find_elements_by_tag_name(\"li\")[0].text.split(\"\\n\")[0]\n",
    "#     gpa_person = educationDetails(education,\"Grade\", 0)\n",
    "#     y = re.findall(r'.GPA |gpa ',education[gpa_person + 1])\n",
    "#     if(len(y)>1):\n",
    "#         education[gpa_person + 1] = float(x.split(y[0])[-1])\n",
    "        \n",
    "#     if(gpa_person == -9 and uno_proof == \"Virginia Tech\" or type(education[gpa_person + 1]) == type(\"Qasim Wani\")):\n",
    "#         gpa.append(0) \n",
    "#     else:\n",
    "#         gpa.append(education[gpa_person + 1])\n",
    "    \n",
    "#     if(isElement(\".activities-societies\") == True):\n",
    "#         xts = br.find_element_by_css_selector(\".activities-societies\")\n",
    "#         av = xts.find_element_by_xpath(\"..\")\n",
    "#         avx = av.find_element_by_xpath(\"..\")\n",
    "#         proof = avx.text.split(\"\\n\")[0]\n",
    "#         proof = proof.split(\"Virginia Tech\")[0]\n",
    "        \n",
    "#         if(proof == \"Virginia Tech\"):\n",
    "#             act_soc = br.find_element_by_css_selector(\".activities-societies\")\n",
    "#             activities.append(act_soc.text)\n",
    "#         else:\n",
    "#             activities.append(\"No Activity\")\n",
    "#     else:\n",
    "#         activities.append(\"No Activity\")"
   ]
  },
  {
   "cell_type": "code",
   "execution_count": null,
   "metadata": {},
   "outputs": [],
   "source": [
    "def userSkills():\n",
    "    br.execute_script(\"window.scrollTo(0, 800);\")\n",
    "    q_skill = \".pv-profile-section__card-action-bar.pv-skills-section__additional-skills.artdeco-container-card-action-bar\"\n",
    "    if(isElement(q_skill) == True):\n",
    "        br.find_element_by_css_selector(q_skill).click()\n",
    "\n",
    "    list_of_user_skills = \".pv-skill-category-entity__name-text.t-16.t-black.t-bold\"\n",
    "\n",
    "    if(isElement(list_of_user_skills) == True):\n",
    "        ser_skil = br.find_elements_by_css_selector(list_of_user_skills)\n",
    "        one_skill = []\n",
    "        for x in ser_skil:\n",
    "            one_skill.append(x.text + \" \")\n",
    "        skills.append(one_skill)\n",
    "    else:\n",
    "        skills.append(['NO SKILLS LISTED'])"
   ]
  },
  {
   "cell_type": "code",
   "execution_count": null,
   "metadata": {},
   "outputs": [],
   "source": [
    "def user_has_interests():\n",
    "    xyz = \".pv-profile-section.pv-interests-section.artdeco-container-card.ember-view\"\n",
    "    if(isElement(xyz) == True):\n",
    "        interests = br.find_element_by_css_selector(xyz)\n",
    "        allInt = interests.text.split(\"\\n\")\n",
    "        user_interests.append(allInt[1:-1:2])\n",
    "    else:\n",
    "        user_interests.append(\"No Interests Listed\")"
   ]
  },
  {
   "cell_type": "markdown",
   "metadata": {},
   "source": [
    "# The Main Function Invoking Everything Else"
   ]
  },
  {
   "cell_type": "code",
   "execution_count": null,
   "metadata": {},
   "outputs": [],
   "source": [
    "time.sleep(1)\n",
    "next_button = \".artdeco-pagination__button.artdeco-pagination__button--next.artdeco-button.artdeco-button--muted.artdeco-button--icon-right.artdeco-button--1.artdeco-button--tertiary.ember-view\"\n",
    "br.execute_script(\"window.open('https://www.google.com');\")\n",
    "for r in range(1):\n",
    "    time.sleep(1.5)\n",
    "    individualProfiles()\n",
    "    time.sleep(0.5)\n",
    "    for slow in range(30):\n",
    "        br.execute_script(\"window.scrollTo(0,\"+ str(slow*100) +\");\")\n",
    "        time.sleep(0.3)\n",
    "    br.execute_script(\"window.scrollTo(0,document.body.scrollHeight);\")\n",
    "    br.find_element_by_css_selector(next_button).click()"
   ]
  },
  {
   "cell_type": "code",
   "execution_count": null,
   "metadata": {},
   "outputs": [],
   "source": [
    "#Collection of all data\n",
    "big_data =  list(zip(imageLinks,userName, biographyUser, schooling, degree_name, field_of_study, period_attended,skills, user_interests))\n",
    "col = ['Image Links', 'Username','Biography','University Name','Degree Name','Major', 'Period Attended','Skills','Interests']\n",
    "df = pd.DataFrame(data=big_data,columns=col)\n",
    "backup = df"
   ]
  },
  {
   "cell_type": "code",
   "execution_count": null,
   "metadata": {},
   "outputs": [],
   "source": [
    "# df.to_csv('dataScrapingLinkedIn.csv',index=False,encoding='utf-8')\n",
    "# backup.drop_duplicates(subset =\"Username\", keep = False, inplace = True) \n",
    "# df\n",
    "print(len(userName))"
   ]
  },
  {
   "cell_type": "code",
   "execution_count": null,
   "metadata": {},
   "outputs": [],
   "source": [
    "time.sleep(10)\n",
    "br.execute_script(\"window.open('https://evilens.herokuapp.com/login');\")\n",
    "time.sleep(10)\n",
    "br.switch_to.window(br.window_handles[-1])"
   ]
  },
  {
   "cell_type": "code",
   "execution_count": null,
   "metadata": {},
   "outputs": [],
   "source": [
    "pantomath_username = br.find_element_by_id(\"user_login_name\")\n",
    "pantomath_username.send_keys(\"hacker\")\n",
    "pantomath_password = br.find_element_by_id(\"user_login_password\")\n",
    "pantomath_password.send_keys(\"qasimwani\")\n",
    "pantomath_password.submit()"
   ]
  },
  {
   "cell_type": "code",
   "execution_count": null,
   "metadata": {},
   "outputs": [],
   "source": [
    "all_user_data = []\n",
    "for i in range(len(df)):\n",
    "    all_user_data.append(df.loc[i])\n",
    "    "
   ]
  },
  {
   "cell_type": "code",
   "execution_count": null,
   "metadata": {},
   "outputs": [],
   "source": [
    "def publish(one,two,three,four,five,six,seven,eight,nine):\n",
    "    scraped_user_link = br.find_element_by_id(\"scraped_user_link\").send_keys(one)\n",
    "    scraped_userName = br.find_element_by_id(\"scraped_user_name\").send_keys(two)\n",
    "    scraped_bio = br.find_element_by_id(\"user_scraped_biography\").send_keys(three)\n",
    "    scraped_uni_name = br.find_element_by_id(\"scraped_user_universityName\").send_keys(four)\n",
    "    scraped_degreeName = br.find_element_by_id(\"scraped_degree_name\").send_keys(five)\n",
    "    scraped_major = br.find_element_by_id(\"scraped_user_major\").send_keys(six)\n",
    "    scraped_period_attended = br.find_element_by_id(\"period_attended\").send_keys(seven)\n",
    "    scraped_skills = br.find_element_by_id(\"user_scraped_skills\").send_keys(eight)\n",
    "    scraped_interests = br.find_element_by_id(\"user_scraped_interests\").send_keys(nine)\n",
    "    br.find_element_by_css_selector(\".btn.btn-lg.btn-primary.btn-block\").submit()"
   ]
  },
  {
   "cell_type": "code",
   "execution_count": null,
   "metadata": {},
   "outputs": [],
   "source": [
    "for x in range(len(all_user_data)):\n",
    "    time.sleep(0.5)\n",
    "    newUser = br.find_element_by_css_selector(\".btn.btn-primary.text-center.data_Point\")\n",
    "    newUser.click()\n",
    "    publish(all_user_data[x][0],all_user_data[x][1],all_user_data[x][2],all_user_data[x][3],all_user_data[x][4],all_user_data[x][5],all_user_data[x][6],all_user_data[x][7][:],all_user_data[x][8][:],)"
   ]
  },
  {
   "cell_type": "code",
   "execution_count": null,
   "metadata": {},
   "outputs": [],
   "source": [
    "def deleteAllPosts():\n",
    "    time.sleep(0.36)\n",
    "    br.execute_script(\"window.scrollTo(0, 300);\")\n",
    "    br.find_elements_by_css_selector(\".btn.btn-primary\")[1].click()\n",
    "    time.sleep(0.36)\n",
    "    br.execute_script(\"window.scrollTo(0, document.body.scrollHeight);\")\n",
    "    br.find_element_by_css_selector(\".btn.btn-sm.btn-danger\").click()"
   ]
  },
  {
   "cell_type": "code",
   "execution_count": null,
   "metadata": {},
   "outputs": [],
   "source": [
    "# choice = input(\"Do you want to delete all posts? \")\n",
    "# if(choice == \"yes\"):\n",
    "#     for x in range(len(all_user_data)):\n",
    "#         deleteAllPosts()\n"
   ]
  },
  {
   "cell_type": "code",
   "execution_count": null,
   "metadata": {},
   "outputs": [],
   "source": [
    "\"70th to be scanned now. Start base at 70. i.e. run program at 70.\""
   ]
  },
  {
   "cell_type": "code",
   "execution_count": null,
   "metadata": {},
   "outputs": [],
   "source": []
  },
  {
   "cell_type": "code",
   "execution_count": null,
   "metadata": {},
   "outputs": [],
   "source": []
  },
  {
   "cell_type": "code",
   "execution_count": null,
   "metadata": {},
   "outputs": [],
   "source": []
  }
 ],
 "metadata": {
  "kernelspec": {
   "display_name": "Python 3",
   "language": "python",
   "name": "python3"
  },
  "language_info": {
   "codemirror_mode": {
    "name": "ipython",
    "version": 3
   },
   "file_extension": ".py",
   "mimetype": "text/x-python",
   "name": "python",
   "nbconvert_exporter": "python",
   "pygments_lexer": "ipython3",
   "version": "3.7.3"
  }
 },
 "nbformat": 4,
 "nbformat_minor": 2
}
