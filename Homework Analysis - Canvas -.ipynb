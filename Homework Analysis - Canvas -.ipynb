{
 "cells": [
  {
   "cell_type": "code",
   "execution_count": 1,
   "metadata": {},
   "outputs": [],
   "source": [
    "hp = \"Machine Learning for Infinitum\"\n",
    "he = \"qasim\"\n",
    "email_user = 'qasim31wani@gmail.com'\n",
    "email_password = 'quinnwani'\n",
    "email_send = 'qasim31wani@gmail.com'"
   ]
  },
  {
   "cell_type": "code",
   "execution_count": 2,
   "metadata": {},
   "outputs": [],
   "source": [
    "from selenium import webdriver\n",
    "import smtplib\n",
    "from email.mime.text import MIMEText\n",
    "from email.mime.multipart import MIMEMultipart\n",
    "from selenium.webdriver.common.keys import Keys\n",
    "from email.mime.base import MIMEBase\n",
    "from email import encoders\n",
    "import time\n",
    "import re\n",
    "import pandas as pd"
   ]
  },
  {
   "cell_type": "code",
   "execution_count": 3,
   "metadata": {},
   "outputs": [],
   "source": [
    "br = webdriver.Chrome(executable_path=r\"C:/Users/qasim/Downloads/chromedriver_win32/chromedriver.exe\")\n",
    "br.get('http://canvas.vt.edu')\n",
    "time.sleep(3)\n",
    "username = br.find_element_by_id(\"username\")\n",
    "username.send_keys(he)\n",
    "password = br.find_element_by_id(\"password\")\n",
    "password.send_keys(hp)\n",
    "time.sleep(1)\n",
    "button = br.find_element_by_name(\"_eventId_proceed\")\n",
    "button.click()\n",
    "time.sleep(15)"
   ]
  },
  {
   "cell_type": "code",
   "execution_count": 4,
   "metadata": {},
   "outputs": [],
   "source": [
    "x = \".View__ehkxkl-root.Button__dUxGkD-root.Button__dUxGkD-link.Button__dUxGkD-medium.Button__dUxGkD-width--auto.Button__dUxGkD-borderRadius--rounded\"\n",
    "y = \".ToggleDetails__ettLPz-toggle\"\n",
    "\n",
    "\n",
    "loadMore = br.find_elements_by_css_selector(x)\n",
    "\n",
    "links = []\n",
    "\n",
    "allCompletedAssignments = []\n",
    "\n",
    "whenAssignment = []\n",
    "\n",
    "# def clickBait(tes):\n",
    "#     completedAssignmnets = br.find_elements_by_css_selector(tes)\n",
    "#     for i in range(0, len(completedAssignmnets)):\n",
    "#         completedAssignmnets[i].send_keys(webdriver.common.keys.Keys.SPACE)\n",
    "#         time.sleep(1)\n",
    "# cA = br.find_elements_by_xpath('//*[@class=\"Checkbox__hWQEmK-input\"]')\n",
    "# cA[0].send_keys(webdriver.common.keys.Keys.SPACE)\n",
    "\"\"\"\n",
    " # Fun Stuff Coming Up #\n",
    " cA = br.find_elements_by_xpath('//*[@class=\"Checkbox__hWQEmK-input\"]')\n",
    "for x in range(len(cA)):\n",
    "    cA[x].send_keys(webdriver.common.keys.Keys.SPACE)\n",
    "    time.sleep(0.5)\n",
    "\n",
    "\"\"\"\n",
    "\"Function to load all events\"\n",
    "def duo(times):\n",
    "    for c in range(0,times+1):\n",
    "        time.sleep(1)\n",
    "#         clickBait(y)\n",
    "#         br.execute_script(\"window.scrollTo(0, document.body.scrollHeight);\")\n",
    "        \n",
    "        load_more_button = br.find_elements_by_css_selector(\".czbXA_bGBk.bavIU_bGBk.bavIU_brAJ.bavIU_ycrn.bavIU_bNlk.bavIU_cuTS\")[-1]\n",
    "        if(load_more_button.text == 'Load more'):\n",
    "            load_more_button.click()\n",
    "    br.find_element_by_css_selector(\"#planner-today-btn\").click()\n",
    "\"End of Function\"    \n",
    "\n",
    "    \n",
    "duo(2)\n",
    "\n",
    "\n",
    "zzz = \".czbXA_bGBk.czbXA_UeJS.cIcZl_bGBk.cIcZl_bOQC\"\n",
    "allAss = br.find_elements_by_css_selector(zzz)\n",
    "for x in range(len(allAss)):\n",
    "    allCompletedAssignments.append(allAss[x].text)\n",
    "xxx = \".ELpHc_bGBk.ELpHc_dfBC.ELpHc_eQnG.ELpHc_bLsb\"\n",
    "abc = br.find_elements_by_css_selector(xxx)\n",
    "for t in range(len(abc)):\n",
    "    if(t%2 == 0):\n",
    "        whenAssignment.append(abc[t].text)"
   ]
  },
  {
   "cell_type": "code",
   "execution_count": 5,
   "metadata": {},
   "outputs": [],
   "source": [
    "links = allAss\n",
    "nameOfAssignment = []\n",
    "monthRegex = []\n",
    "dateAndRest = []\n",
    "dateNum = []\n",
    "brevity = []\n",
    "error = \".CloseButton__fPgxVp-root.CloseButton__fPgxVp-placement--end.CloseButton__fPgxVp-offset--x-small\"\n",
    "for x in range(len(links)):\n",
    "    nameOfAssignment.append(links[x].text)\n",
    "for y in range(len(nameOfAssignment)):\n",
    "    nameOfAssignment[y] = nameOfAssignment[y].split(\"\\n\")\n",
    "    brevity.append(nameOfAssignment[y][1])\n",
    "    monthRegex.append(re.findall(r'.January|February|March|April|May|June|July|August|September|October|November|December',nameOfAssignment[y][0]))\n",
    "    dateAndRest.append(nameOfAssignment[y][0].partition(monthRegex[y][0])[2].partition(\"2019\")[0:3])\n",
    "    dateNum.append(monthRegex[y][0] + \",\" + dateAndRest[y][0].split(\",\")[0] + \" \" + dateAndRest[y][1] + dateAndRest[y][2])"
   ]
  },
  {
   "cell_type": "code",
   "execution_count": 6,
   "metadata": {},
   "outputs": [],
   "source": [
    "details = list(zip(brevity,whenAssignment,dateNum))"
   ]
  },
  {
   "cell_type": "code",
   "execution_count": 7,
   "metadata": {},
   "outputs": [],
   "source": [
    "df = pd.DataFrame(data=details,columns=['Assignment Name','Class Name','Due Date'])"
   ]
  },
  {
   "cell_type": "code",
   "execution_count": 8,
   "metadata": {},
   "outputs": [],
   "source": [
    "df.to_csv('homeworkCanvasHack.csv',index=False,encoding='utf-8')"
   ]
  },
  {
   "cell_type": "code",
   "execution_count": 9,
   "metadata": {},
   "outputs": [
    {
     "data": {
      "text/plain": [
       "(221, b'2.0.0 closing connection u2sm4690888qkb.37 - gsmtp')"
      ]
     },
     "execution_count": 9,
     "metadata": {},
     "output_type": "execute_result"
    }
   ],
   "source": [
    "subject = 'Homework Hack using Python'\n",
    "\n",
    "msg = MIMEMultipart()\n",
    "msg['From'] = email_user\n",
    "msg['To'] = email_send\n",
    "msg['Subject'] = subject\n",
    "\n",
    "body = 'Here\\'s a list of homework assigned to you. More soul-crunching and meaningless work for corrupt organizations...'\n",
    "msg.attach(MIMEText(body,'plain'))\n",
    "\n",
    "filename = 'homeworkCanvasHack.csv'\n",
    "attachment  = open(filename,'rb')\n",
    "\n",
    "part = MIMEBase('application','octet-stream')\n",
    "part.set_payload((attachment).read())\n",
    "encoders.encode_base64(part)\n",
    "part.add_header('Content-Disposition',\"attachment; filename= \"+filename)\n",
    "\n",
    "msg.attach(part)\n",
    "text = msg.as_string()\n",
    "server = smtplib.SMTP('smtp.gmail.com',587)\n",
    "server.starttls()\n",
    "server.login(email_user,email_password)\n",
    "\n",
    "\n",
    "server.sendmail(email_user,email_send,text)\n",
    "server.quit()"
   ]
  },
  {
   "cell_type": "code",
   "execution_count": null,
   "metadata": {},
   "outputs": [],
   "source": []
  }
 ],
 "metadata": {
  "kernelspec": {
   "display_name": "Python 3",
   "language": "python",
   "name": "python3"
  },
  "language_info": {
   "codemirror_mode": {
    "name": "ipython",
    "version": 3
   },
   "file_extension": ".py",
   "mimetype": "text/x-python",
   "name": "python",
   "nbconvert_exporter": "python",
   "pygments_lexer": "ipython3",
   "version": "3.7.3"
  }
 },
 "nbformat": 4,
 "nbformat_minor": 2
}
