{
 "cells": [
  {
   "cell_type": "code",
   "execution_count": 2,
   "metadata": {},
   "outputs": [],
   "source": [
    "import requests"
   ]
  },
  {
   "cell_type": "code",
   "execution_count": 3,
   "metadata": {},
   "outputs": [],
   "source": [
    "r = requests.get('https://wsvincent.com/best-python-books/')"
   ]
  },
  {
   "cell_type": "code",
   "execution_count": 41,
   "metadata": {},
   "outputs": [],
   "source": [
    "from bs4 import BeautifulSoup"
   ]
  },
  {
   "cell_type": "code",
   "execution_count": 46,
   "metadata": {},
   "outputs": [],
   "source": [
    "soup = BeautifulSoup(r.content,'html.parser')"
   ]
  },
  {
   "cell_type": "code",
   "execution_count": 99,
   "metadata": {},
   "outputs": [],
   "source": [
    "results = soup.find_all('div',attrs={'class':'bookshelf-indiv'})"
   ]
  },
  {
   "cell_type": "code",
   "execution_count": 100,
   "metadata": {},
   "outputs": [
    {
     "data": {
      "text/plain": [
       "16"
      ]
     },
     "execution_count": 100,
     "metadata": {},
     "output_type": "execute_result"
    }
   ],
   "source": [
    "len(results)"
   ]
  },
  {
   "cell_type": "code",
   "execution_count": 62,
   "metadata": {},
   "outputs": [
    {
     "data": {
      "text/plain": [
       "<div class=\"bookshelf-indiv\">\n",
       "<a href=\"https://amzn.to/2NuXJ0q\" target=\"\\_blank\">\n",
       "<img class=\"bookcover\" src=\"https://wsvincent.com/assets/images/bestpythonbooks/python_for_kids.jpg\"/>\n",
       "</a>\n",
       "<p>Good for beginners of all ages.</p>\n",
       "</div>"
      ]
     },
     "execution_count": 62,
     "metadata": {},
     "output_type": "execute_result"
    }
   ],
   "source": [
    "results[0]"
   ]
  },
  {
   "cell_type": "code",
   "execution_count": 64,
   "metadata": {},
   "outputs": [],
   "source": [
    "first_result = results[0]"
   ]
  },
  {
   "cell_type": "code",
   "execution_count": 68,
   "metadata": {},
   "outputs": [
    {
     "data": {
      "text/plain": [
       "'https://amzn.to/2NuXJ0q'"
      ]
     },
     "execution_count": 68,
     "metadata": {},
     "output_type": "execute_result"
    }
   ],
   "source": [
    "first_result.find('a')['href']"
   ]
  },
  {
   "cell_type": "code",
   "execution_count": 70,
   "metadata": {},
   "outputs": [
    {
     "data": {
      "text/plain": [
       "'https://wsvincent.com/assets/images/bestpythonbooks/python_for_kids.jpg'"
      ]
     },
     "execution_count": 70,
     "metadata": {},
     "output_type": "execute_result"
    }
   ],
   "source": [
    "first_result.find('img')['src']"
   ]
  },
  {
   "cell_type": "code",
   "execution_count": 82,
   "metadata": {},
   "outputs": [
    {
     "data": {
      "text/plain": [
       "'Elegant intro to Python and computer science.'"
      ]
     },
     "execution_count": 82,
     "metadata": {},
     "output_type": "execute_result"
    }
   ],
   "source": [
    "results[4].text[4:-1]"
   ]
  },
  {
   "cell_type": "code",
   "execution_count": 83,
   "metadata": {},
   "outputs": [],
   "source": [
    "allBooks = []\n",
    "for x in results:\n",
    "    bookLink = x.find('a')['href']\n",
    "    imageLink = x.find('img')['src']\n",
    "    description = x.text[4:-1]\n",
    "    allBooks.append((bookLink,imageLink,description))"
   ]
  },
  {
   "cell_type": "code",
   "execution_count": 85,
   "metadata": {},
   "outputs": [],
   "source": [
    "import pandas as pd"
   ]
  },
  {
   "cell_type": "code",
   "execution_count": 87,
   "metadata": {},
   "outputs": [],
   "source": [
    "df = pd.DataFrame(allBooks, columns = ['Book Link','Book Image', 'Description'])"
   ]
  },
  {
   "cell_type": "code",
   "execution_count": 88,
   "metadata": {},
   "outputs": [
    {
     "data": {
      "text/html": [
       "<div>\n",
       "<style scoped>\n",
       "    .dataframe tbody tr th:only-of-type {\n",
       "        vertical-align: middle;\n",
       "    }\n",
       "\n",
       "    .dataframe tbody tr th {\n",
       "        vertical-align: top;\n",
       "    }\n",
       "\n",
       "    .dataframe thead th {\n",
       "        text-align: right;\n",
       "    }\n",
       "</style>\n",
       "<table border=\"1\" class=\"dataframe\">\n",
       "  <thead>\n",
       "    <tr style=\"text-align: right;\">\n",
       "      <th></th>\n",
       "      <th>Book Link</th>\n",
       "      <th>Book Image</th>\n",
       "      <th>Description</th>\n",
       "    </tr>\n",
       "  </thead>\n",
       "  <tbody>\n",
       "    <tr>\n",
       "      <th>0</th>\n",
       "      <td>https://amzn.to/2NuXJ0q</td>\n",
       "      <td>https://wsvincent.com/assets/images/bestpython...</td>\n",
       "      <td>Good for beginners of all ages.</td>\n",
       "    </tr>\n",
       "    <tr>\n",
       "      <th>1</th>\n",
       "      <td>https://amzn.to/2oMWADF</td>\n",
       "      <td>https://wsvincent.com/assets/images/bestpython...</td>\n",
       "      <td>Suitable for everyone, not just parents &amp; kids.</td>\n",
       "    </tr>\n",
       "    <tr>\n",
       "      <th>2</th>\n",
       "      <td>https://amzn.to/2okggMH</td>\n",
       "      <td>https://wsvincent.com/assets/images/bestpython...</td>\n",
       "      <td>Fantastic and well-written project-based intro.</td>\n",
       "    </tr>\n",
       "    <tr>\n",
       "      <th>3</th>\n",
       "      <td>https://amzn.to/2nkN7lu</td>\n",
       "      <td>https://wsvincent.com/assets/images/bestpython...</td>\n",
       "      <td>Practical examples for total beginners.</td>\n",
       "    </tr>\n",
       "    <tr>\n",
       "      <th>4</th>\n",
       "      <td>https://amzn.to/2LtAHqE</td>\n",
       "      <td>https://wsvincent.com/assets/images/bestpython...</td>\n",
       "      <td>Elegant intro to Python and computer science.</td>\n",
       "    </tr>\n",
       "  </tbody>\n",
       "</table>\n",
       "</div>"
      ],
      "text/plain": [
       "                 Book Link                                         Book Image  \\\n",
       "0  https://amzn.to/2NuXJ0q  https://wsvincent.com/assets/images/bestpython...   \n",
       "1  https://amzn.to/2oMWADF  https://wsvincent.com/assets/images/bestpython...   \n",
       "2  https://amzn.to/2okggMH  https://wsvincent.com/assets/images/bestpython...   \n",
       "3  https://amzn.to/2nkN7lu  https://wsvincent.com/assets/images/bestpython...   \n",
       "4  https://amzn.to/2LtAHqE  https://wsvincent.com/assets/images/bestpython...   \n",
       "\n",
       "                                       Description  \n",
       "0                  Good for beginners of all ages.  \n",
       "1  Suitable for everyone, not just parents & kids.  \n",
       "2  Fantastic and well-written project-based intro.  \n",
       "3          Practical examples for total beginners.  \n",
       "4    Elegant intro to Python and computer science.  "
      ]
     },
     "execution_count": 88,
     "metadata": {},
     "output_type": "execute_result"
    }
   ],
   "source": [
    "df.head()"
   ]
  },
  {
   "cell_type": "code",
   "execution_count": 96,
   "metadata": {},
   "outputs": [],
   "source": [
    "df.to_csv('beginnerPythonBooks_throughWebScraping.csv',index=False,encoding='utf-8')"
   ]
  },
  {
   "cell_type": "code",
   "execution_count": 97,
   "metadata": {},
   "outputs": [],
   "source": [
    "pythonBooks = pd.read_csv('beginnerPythonBooks_throughWebScraping.csv', encoding='utf-8')"
   ]
  },
  {
   "cell_type": "code",
   "execution_count": 94,
   "metadata": {},
   "outputs": [
    {
     "data": {
      "text/html": [
       "<div>\n",
       "<style scoped>\n",
       "    .dataframe tbody tr th:only-of-type {\n",
       "        vertical-align: middle;\n",
       "    }\n",
       "\n",
       "    .dataframe tbody tr th {\n",
       "        vertical-align: top;\n",
       "    }\n",
       "\n",
       "    .dataframe thead th {\n",
       "        text-align: right;\n",
       "    }\n",
       "</style>\n",
       "<table border=\"1\" class=\"dataframe\">\n",
       "  <thead>\n",
       "    <tr style=\"text-align: right;\">\n",
       "      <th></th>\n",
       "      <th>Unnamed: 0</th>\n",
       "      <th>Book Link</th>\n",
       "      <th>Book Image</th>\n",
       "      <th>Description</th>\n",
       "    </tr>\n",
       "  </thead>\n",
       "  <tbody>\n",
       "    <tr>\n",
       "      <th>0</th>\n",
       "      <td>0</td>\n",
       "      <td>https://amzn.to/2NuXJ0q</td>\n",
       "      <td>https://wsvincent.com/assets/images/bestpython...</td>\n",
       "      <td>Good for beginners of all ages.</td>\n",
       "    </tr>\n",
       "    <tr>\n",
       "      <th>1</th>\n",
       "      <td>1</td>\n",
       "      <td>https://amzn.to/2oMWADF</td>\n",
       "      <td>https://wsvincent.com/assets/images/bestpython...</td>\n",
       "      <td>Suitable for everyone, not just parents &amp; kids.</td>\n",
       "    </tr>\n",
       "    <tr>\n",
       "      <th>2</th>\n",
       "      <td>2</td>\n",
       "      <td>https://amzn.to/2okggMH</td>\n",
       "      <td>https://wsvincent.com/assets/images/bestpython...</td>\n",
       "      <td>Fantastic and well-written project-based intro.</td>\n",
       "    </tr>\n",
       "    <tr>\n",
       "      <th>3</th>\n",
       "      <td>3</td>\n",
       "      <td>https://amzn.to/2nkN7lu</td>\n",
       "      <td>https://wsvincent.com/assets/images/bestpython...</td>\n",
       "      <td>Practical examples for total beginners.</td>\n",
       "    </tr>\n",
       "    <tr>\n",
       "      <th>4</th>\n",
       "      <td>4</td>\n",
       "      <td>https://amzn.to/2LtAHqE</td>\n",
       "      <td>https://wsvincent.com/assets/images/bestpython...</td>\n",
       "      <td>Elegant intro to Python and computer science.</td>\n",
       "    </tr>\n",
       "    <tr>\n",
       "      <th>5</th>\n",
       "      <td>5</td>\n",
       "      <td>https://amzn.to/2Ab5Fyu</td>\n",
       "      <td>https://wsvincent.com/assets/images/bestpython...</td>\n",
       "      <td>Build multiple games and learn Python basics.</td>\n",
       "    </tr>\n",
       "    <tr>\n",
       "      <th>6</th>\n",
       "      <td>6</td>\n",
       "      <td>https://amzn.to/2Aer8GT</td>\n",
       "      <td>https://wsvincent.com/assets/images/bestpython...</td>\n",
       "      <td>Demystifies both Python and machine learning.</td>\n",
       "    </tr>\n",
       "    <tr>\n",
       "      <th>7</th>\n",
       "      <td>7</td>\n",
       "      <td>https://amzn.to/2NRPvAG</td>\n",
       "      <td>https://wsvincent.com/assets/images/bestpython...</td>\n",
       "      <td>Highly accessible and practical introduction t...</td>\n",
       "    </tr>\n",
       "    <tr>\n",
       "      <th>8</th>\n",
       "      <td>8</td>\n",
       "      <td>http://amzn.to/2ovfgsR</td>\n",
       "      <td>https://wsvincent.com/assets/images/bestpython...</td>\n",
       "      <td>A masterful, well-written guide. Highly recomm...</td>\n",
       "    </tr>\n",
       "    <tr>\n",
       "      <th>9</th>\n",
       "      <td>9</td>\n",
       "      <td>http://amzn.to/2nCqivT</td>\n",
       "      <td>https://wsvincent.com/assets/images/bestpython...</td>\n",
       "      <td>Wonderful collection of Python best practices.</td>\n",
       "    </tr>\n",
       "    <tr>\n",
       "      <th>10</th>\n",
       "      <td>10</td>\n",
       "      <td>http://amzn.to/2oRjgAC</td>\n",
       "      <td>https://wsvincent.com/assets/images/bestpython...</td>\n",
       "      <td>A comprehensive reference on all parts of Python.</td>\n",
       "    </tr>\n",
       "    <tr>\n",
       "      <th>11</th>\n",
       "      <td>11</td>\n",
       "      <td>https://amzn.to/2LSlOdL</td>\n",
       "      <td>https://wsvincent.com/assets/images/bestpython...</td>\n",
       "      <td>The classic text for learning Python.</td>\n",
       "    </tr>\n",
       "    <tr>\n",
       "      <th>12</th>\n",
       "      <td>12</td>\n",
       "      <td>https://amzn.to/2AeI5ks</td>\n",
       "      <td>https://wsvincent.com/assets/images/bestpython...</td>\n",
       "      <td>Friendly guide to Python and computer science.</td>\n",
       "    </tr>\n",
       "    <tr>\n",
       "      <th>13</th>\n",
       "      <td>13</td>\n",
       "      <td>https://amzn.to/2A9wJya</td>\n",
       "      <td>https://wsvincent.com/assets/images/bestpython...</td>\n",
       "      <td>Nonstop tips to write truly Pythonic code.</td>\n",
       "    </tr>\n",
       "    <tr>\n",
       "      <th>14</th>\n",
       "      <td>14</td>\n",
       "      <td>https://amzn.to/2DJPkTf</td>\n",
       "      <td>https://wsvincent.com/assets/images/bestpython...</td>\n",
       "      <td>Level up your Python with intermediate concepts.</td>\n",
       "    </tr>\n",
       "    <tr>\n",
       "      <th>15</th>\n",
       "      <td>15</td>\n",
       "      <td>https://amzn.to/2WRiQeJ</td>\n",
       "      <td>https://wsvincent.com/assets/images/bestpython...</td>\n",
       "      <td>Write better tests with the PyTest package.</td>\n",
       "    </tr>\n",
       "  </tbody>\n",
       "</table>\n",
       "</div>"
      ],
      "text/plain": [
       "    Unnamed: 0                Book Link  \\\n",
       "0            0  https://amzn.to/2NuXJ0q   \n",
       "1            1  https://amzn.to/2oMWADF   \n",
       "2            2  https://amzn.to/2okggMH   \n",
       "3            3  https://amzn.to/2nkN7lu   \n",
       "4            4  https://amzn.to/2LtAHqE   \n",
       "5            5  https://amzn.to/2Ab5Fyu   \n",
       "6            6  https://amzn.to/2Aer8GT   \n",
       "7            7  https://amzn.to/2NRPvAG   \n",
       "8            8   http://amzn.to/2ovfgsR   \n",
       "9            9   http://amzn.to/2nCqivT   \n",
       "10          10   http://amzn.to/2oRjgAC   \n",
       "11          11  https://amzn.to/2LSlOdL   \n",
       "12          12  https://amzn.to/2AeI5ks   \n",
       "13          13  https://amzn.to/2A9wJya   \n",
       "14          14  https://amzn.to/2DJPkTf   \n",
       "15          15  https://amzn.to/2WRiQeJ   \n",
       "\n",
       "                                           Book Image  \\\n",
       "0   https://wsvincent.com/assets/images/bestpython...   \n",
       "1   https://wsvincent.com/assets/images/bestpython...   \n",
       "2   https://wsvincent.com/assets/images/bestpython...   \n",
       "3   https://wsvincent.com/assets/images/bestpython...   \n",
       "4   https://wsvincent.com/assets/images/bestpython...   \n",
       "5   https://wsvincent.com/assets/images/bestpython...   \n",
       "6   https://wsvincent.com/assets/images/bestpython...   \n",
       "7   https://wsvincent.com/assets/images/bestpython...   \n",
       "8   https://wsvincent.com/assets/images/bestpython...   \n",
       "9   https://wsvincent.com/assets/images/bestpython...   \n",
       "10  https://wsvincent.com/assets/images/bestpython...   \n",
       "11  https://wsvincent.com/assets/images/bestpython...   \n",
       "12  https://wsvincent.com/assets/images/bestpython...   \n",
       "13  https://wsvincent.com/assets/images/bestpython...   \n",
       "14  https://wsvincent.com/assets/images/bestpython...   \n",
       "15  https://wsvincent.com/assets/images/bestpython...   \n",
       "\n",
       "                                          Description  \n",
       "0                     Good for beginners of all ages.  \n",
       "1     Suitable for everyone, not just parents & kids.  \n",
       "2     Fantastic and well-written project-based intro.  \n",
       "3             Practical examples for total beginners.  \n",
       "4       Elegant intro to Python and computer science.  \n",
       "5       Build multiple games and learn Python basics.  \n",
       "6       Demystifies both Python and machine learning.  \n",
       "7   Highly accessible and practical introduction t...  \n",
       "8   A masterful, well-written guide. Highly recomm...  \n",
       "9      Wonderful collection of Python best practices.  \n",
       "10  A comprehensive reference on all parts of Python.  \n",
       "11              The classic text for learning Python.  \n",
       "12     Friendly guide to Python and computer science.  \n",
       "13         Nonstop tips to write truly Pythonic code.  \n",
       "14   Level up your Python with intermediate concepts.  \n",
       "15        Write better tests with the PyTest package.  "
      ]
     },
     "execution_count": 94,
     "metadata": {},
     "output_type": "execute_result"
    }
   ],
   "source": [
    "pythonBooks"
   ]
  },
  {
   "cell_type": "code",
   "execution_count": null,
   "metadata": {},
   "outputs": [],
   "source": []
  }
 ],
 "metadata": {
  "kernelspec": {
   "display_name": "Python 3",
   "language": "python",
   "name": "python3"
  },
  "language_info": {
   "codemirror_mode": {
    "name": "ipython",
    "version": 3
   },
   "file_extension": ".py",
   "mimetype": "text/x-python",
   "name": "python",
   "nbconvert_exporter": "python",
   "pygments_lexer": "ipython3",
   "version": "3.7.3"
  }
 },
 "nbformat": 4,
 "nbformat_minor": 2
}
